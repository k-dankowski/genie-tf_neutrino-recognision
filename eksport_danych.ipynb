{
 "cells": [
  {
   "cell_type": "markdown",
   "id": "5a670507-ad24-4880-92fe-a5fe3dabf01e",
   "metadata": {},
   "source": [
    "# Identyfikacja oddziaływań neutrin w detektorach ciekłoargonowych metodami uczenia maszynowego\n",
    "\n",
    "## 1. Przygotowanie danych\n",
    "\n",
    "Użycie GENIE do generacji zdarzeń zgodnie z instrukcją zawartą w pracy w rozdziale 3.1 powinno skutkować utworzeniem pliku o nazwie gntp.0.ghep.root. Plik ten należy zamienić na format o nazwie RooTracker komendą:"
   ]
  },
  {
   "cell_type": "raw",
   "id": "787c622c-3e7f-43a9-84db-703e2049844f",
   "metadata": {},
   "source": [
    "gntpc -i gntp.0.ghep.root -f rootracker"
   ]
  },
  {
   "cell_type": "markdown",
   "id": "e951c75d-cc75-483d-bed7-9aa440663064",
   "metadata": {},
   "source": [
    "Z tak przygotowanego pliku można wyodrębnić najpotrzebniejsze dane do pliku .csv"
   ]
  },
  {
   "cell_type": "code",
   "execution_count": null,
   "id": "7ce46c47-4ff8-4c0d-9e16-d35082501264",
   "metadata": {},
   "outputs": [],
   "source": [
    "import csv"
   ]
  }
 ],
 "metadata": {
  "kernelspec": {
   "display_name": "Python 3 (ipykernel)",
   "language": "python",
   "name": "python3"
  },
  "language_info": {
   "codemirror_mode": {
    "name": "ipython",
    "version": 3
   },
   "file_extension": ".py",
   "mimetype": "text/x-python",
   "name": "python",
   "nbconvert_exporter": "python",
   "pygments_lexer": "ipython3",
   "version": "3.11.9"
  }
 },
 "nbformat": 4,
 "nbformat_minor": 5
}
