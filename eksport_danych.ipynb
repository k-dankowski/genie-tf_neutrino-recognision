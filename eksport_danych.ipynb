{
 "cells": [
  {
   "cell_type": "markdown",
   "id": "acb4f588-5671-4c1d-b06e-7e4b785104b2",
   "metadata": {},
   "source": [
    "# Identyfikacja oddziaływań neutrin w detektorach ciekłoargonowych metodami uczenia maszynowego\n",
    "\n",
    "## 1. Przygotowanie danych\n",
    "\n",
    "Użycie GENIE do generacji zdarzeń zgodnie z instrukcją zawartą w pracy w rozdziale 3.1 powinno skutkować utworzeniem pliku o nazwie gntp.0.ghep.root. Plik ten należy zamienić na format o nazwie RooTracker komendą:"
   ]
  },
  {
   "cell_type": "markdown",
   "id": "b4737942-4a80-492b-b73c-631ec2618d13",
   "metadata": {},
   "source": [
    "gntpc -i gntp.0.ghep.root -f rootracker"
   ]
  },
  {
   "cell_type": "markdown",
   "id": "8c2750fc-c595-4def-9f84-c47b7969c278",
   "metadata": {},
   "source": [
    "Z tak przygotowanego pliku można wyodrębnić najpotrzebniejsze dane do pliku .csv"
   ]
  },
  {
   "cell_type": "code",
   "execution_count": 1,
   "id": "22bc1707-dd55-47f6-9c2f-8cb2e981df18",
   "metadata": {},
   "outputs": [
    {
     "name": "stdout",
     "output_type": "stream",
     "text": [
      "Welcome to JupyROOT 6.26/10\n"
     ]
    }
   ],
   "source": [
    "import ROOT\n",
    "import csv"
   ]
  },
  {
   "cell_type": "code",
   "execution_count": 2,
   "id": "f4fd0a87-7082-4a80-9325-a89c39f2f46c",
   "metadata": {},
   "outputs": [],
   "source": [
    "nu_mu_file = ROOT.TFile(\"gntp.0.gtrac_mu.root\")\n",
    "nu_tau_file = ROOT.TFile(\"gntp.0.gtrac_tau.root\")"
   ]
  },
  {
   "cell_type": "code",
   "execution_count": 3,
   "id": "b4f079dc-816e-49f2-90e1-6fdcf6f1c6b2",
   "metadata": {},
   "outputs": [],
   "source": [
    "# Lista kodów pdg cząstek o zerowym ładunku elektrycznym występujących w wygenerowanych zdarzeniach\n",
    "neutral_particles = [-12, 12, -14, 14, -16, 16, -2112, 2112, -111, 111, 22, -3122, 3122, -3212, 3212,\n",
    "                    -421, 421, -311, 311, -130, 130, 2000000101, 1000180400]"
   ]
  },
  {
   "cell_type": "code",
   "execution_count": 4,
   "id": "887a04c7-d715-4b0e-b680-fbef6d56d706",
   "metadata": {},
   "outputs": [],
   "source": [
    "def extract_data(input_file, output_file, particles_list):\n",
    "    tree = input_file.Get(\"gRooTracker\") # Wgrywanie drzewa ROOT z danymi\n",
    "    with open(output_file, 'w') as f:\n",
    "        writer = csv.writer(f)\n",
    "        for entry in tree:\n",
    "            # Lista czteropędów każdej cząstki [px1, py1, pz1, E1, px2, py2, pz2, E2, ...]\n",
    "            four_vectors = tree.StdHepP4\n",
    "            row = [tree.EvtNum] # Numer oddziaływania\n",
    "            # Iterowanie po wszystkich cząstkach w oddziaływaniu\n",
    "            for particle in range(0, tree.StdHepN):\n",
    "                particle_type = tree.StdHepPdg[particle] # Kod pdg cząstki\n",
    "                # Wybieranie jedynie naładowanych końcowych produktów\n",
    "                if tree.StdHepStatus[particle] == 1 and particle_type not in particles_list:\n",
    "                    row.append(particle_type)\n",
    "                    for counter in range(0, 4):\n",
    "                        # Dodawanie do wiersza pędów i energi cząstki\n",
    "                        row.append(four_vectors[4 * particle + counter])\n",
    "            writer.writerow(row)"
   ]
  },
  {
   "cell_type": "code",
   "execution_count": null,
   "id": "f8dc4969-35b8-4141-855f-d37848c389b9",
   "metadata": {},
   "outputs": [],
   "source": [
    "extract_data(nu_mu_file, 'mu_data.csv', neutral_particles)\n",
    "extract_data(nu_tau_file, 'tau_data.csv', neutral_particles)"
   ]
  }
 ],
 "metadata": {
  "kernelspec": {
   "display_name": "Python 3 (ipykernel)",
   "language": "python",
   "name": "python3"
  },
  "language_info": {
   "codemirror_mode": {
    "name": "ipython",
    "version": 3
   },
   "file_extension": ".py",
   "mimetype": "text/x-python",
   "name": "python",
   "nbconvert_exporter": "python",
   "pygments_lexer": "ipython3",
   "version": "3.11.9"
  }
 },
 "nbformat": 4,
 "nbformat_minor": 5
}
